{
 "cells": [
  {
   "cell_type": "code",
   "execution_count": 1,
   "metadata": {},
   "outputs": [],
   "source": [
    "import requests\n",
    "import bs4\n",
    "from bs4 import BeautifulSoup\n",
    "import urllib\n",
    "from urllib.request import urlopen # changed python 2 code: from urllib import urlopen\n",
    "import pandas as pd\n",
    "import matplotlib as plt\n",
    "import re\n",
    "%matplotlib inline"
   ]
  },
  {
   "cell_type": "code",
   "execution_count": null,
   "metadata": {},
   "outputs": [
    {
     "name": "stdout",
     "output_type": "stream",
     "text": [
      "http://www.metacritic.com/browse/games/score/userscore/all/all/filtered?&sort=desc&page=0\n",
      "http://www.metacritic.com/browse/games/score/userscore/all/all/filtered?&sort=desc&page=1\n",
      "http://www.metacritic.com/browse/games/score/userscore/all/all/filtered?&sort=desc&page=2\n"
     ]
    }
   ],
   "source": [
    "currentPage = 0\n",
    "maxPage = 10;\n",
    "\n",
    "df_test2 = pd.DataFrame(columns=[\"title\", \"platform\", \"user_score\", \"release_date\"])\n",
    "\n",
    "for i in range (currentPage, maxPage):\n",
    "    URL = \"http://www.metacritic.com/browse/games/score/userscore/all/all/filtered?&sort=desc&page=\" + str(i) \n",
    "    user_agent = 'Mozilla/5.0 (Windows; U; Windows NT 5.1; en-US; rv:1.9.0.7) Gecko/2009021910 Firefox/3.0.7'\n",
    "    headers={'User-Agent':user_agent,} \n",
    "    request=urllib.request.Request(URL,None,headers)\n",
    "    response = urllib.request.urlopen(request)\n",
    "    data = response.read()\n",
    "    soup = BeautifulSoup(data, \"html.parser\")\n",
    "    print(URL)\n",
    "    \n",
    "    for games in soup.find_all('div', class_='product_wrap'):\n",
    "            if (len(games) == 7):\n",
    "                title_and_platform = games.find('div', class_='basic_stat product_title').find('a').text    \n",
    "                title_and_platform = title_and_platform.replace(\"  \", \"\") \n",
    "                title = re.findall('(.*?)\\n', title_and_platform)[1] \n",
    "                platform = re.findall('\\n\\((.*?)\\)', title_and_platform)[0]\n",
    "                user_score = games.find('span', attrs = {\"class\": re.compile(\"(data textscore .*?)\")}).text\n",
    "                release_date = games.find('li', class_='stat release_date full_release_date').text\n",
    "                release_date = release_date.replace('\\n', '').replace('Release Date:', '')\n",
    "                df_test2 = df_test2.append({\"title\":title, \"platform\":platform, \"user_score\": user_score, \"release_date\": release_date}, ignore_index=True) \n",
    "   \n",
    "df_test2.head() \n"
   ]
  },
  {
   "cell_type": "code",
   "execution_count": null,
   "metadata": {},
   "outputs": [],
   "source": [
    "df_test2.to_csv(\"~/Desktop/Metacritic.csv\" , sep=',', encoding='utf-8')"
   ]
  },
  {
   "cell_type": "code",
   "execution_count": null,
   "metadata": {},
   "outputs": [],
   "source": []
  }
 ],
 "metadata": {
  "kernelspec": {
   "display_name": "Python 3",
   "language": "python",
   "name": "python3"
  },
  "language_info": {
   "codemirror_mode": {
    "name": "ipython",
    "version": 3
   },
   "file_extension": ".py",
   "mimetype": "text/x-python",
   "name": "python",
   "nbconvert_exporter": "python",
   "pygments_lexer": "ipython3",
   "version": "3.7.3"
  }
 },
 "nbformat": 4,
 "nbformat_minor": 2
}
